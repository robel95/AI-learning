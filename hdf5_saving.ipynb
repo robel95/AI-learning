{
 "cells": [
  {
   "cell_type": "markdown",
   "metadata": {},
   "source": [
    "## saving a dataset using an hdf5 file (.hdf5)"
   ]
  },
  {
   "cell_type": "code",
   "execution_count": null,
   "metadata": {
    "collapsed": true
   },
   "outputs": [],
   "source": [
    "import glob\n",
    "from random import shuffle\n",
    "import h5py\n",
    "import numpy as np\n",
    "import cv2 as cv"
   ]
  },
  {
   "cell_type": "code",
   "execution_count": 2,
   "metadata": {
    "collapsed": true
   },
   "outputs": [],
   "source": [
    "shuffle_data = True #to shuffle the cats and dogs"
   ]
  },
  {
   "cell_type": "code",
   "execution_count": 3,
   "metadata": {
    "collapsed": true
   },
   "outputs": [],
   "source": [
    "#create and save the hdf5 file and store the path \n",
    "hdf5_path = 'hdf5_files/dataset.hdf5'"
   ]
  },
  {
   "cell_type": "code",
   "execution_count": 4,
   "metadata": {
    "collapsed": true
   },
   "outputs": [],
   "source": [
    "#store the path of the images\n",
    "cats_n_dogs_path = 'hdf5_files/dogscats/train/dogs/*.jpg'"
   ]
  },
  {
   "cell_type": "code",
   "execution_count": null,
   "metadata": {
    "collapsed": true
   },
   "outputs": [],
   "source": [
    "#read adrs of the path of the images using glob(emptylist)\n",
    "addrs = glob.glob(cats_n_dogs_path)\n",
    "print(cv.imread(addrs[2]))"
   ]
  },
  {
   "cell_type": "code",
   "execution_count": 6,
   "metadata": {
    "collapsed": true
   },
   "outputs": [],
   "source": [
    "#add labels 0 for cats and 1 for dogs\n",
    "labels = [ 0 if 'cat.' in adrs else 1 for adrs in addrs]\n",
    "\n"
   ]
  },
  {
   "cell_type": "code",
   "execution_count": 7,
   "metadata": {
    "collapsed": true
   },
   "outputs": [],
   "source": [
    "if shuffle_data:\n",
    "    zipd = list(zip(addrs,labels))#zip\n",
    "    shuffle(zipd)#shuffle\n",
    "    addrs,labels = zip(*zipd)#unzip\n"
   ]
  },
  {
   "cell_type": "code",
   "execution_count": 8,
   "metadata": {
    "collapsed": true
   },
   "outputs": [],
   "source": [
    "#divide 60p for train, 20p each for validitation and test\n",
    "#fortraining_sets\n",
    "train_addrs = addrs[0:int(0.7*len(addrs))]\n",
    "train_labels = labels[0:int(0.7*len(labels))]\n",
    "#for test\n",
    "test_addrs = addrs[int(0.7*len(addrs)):]\n",
    "test_labels = labels[int(0.7*len(labels)):]\n",
    "\n"
   ]
  },
  {
   "cell_type": "code",
   "execution_count": 9,
   "metadata": {
    "collapsed": true
   },
   "outputs": [],
   "source": [
    "#size of the images shape\n",
    "train_shape = (len(train_addrs),224,224,3)\n",
    "test_shape = (len(test_addrs),224,224,3)\n"
   ]
  },
  {
   "cell_type": "markdown",
   "metadata": {
    "collapsed": true
   },
   "source": [
    "### create hdf5 file and creatte arrays\n",
    "\n",
    "\n"
   ]
  },
  {
   "cell_type": "code",
   "execution_count": null,
   "metadata": {
    "collapsed": true
   },
   "outputs": [],
   "source": [
    "hdf5_file = h5py.File(hdf5_path,mode = 'w')"
   ]
  },
  {
   "cell_type": "code",
   "execution_count": 11,
   "metadata": {},
   "outputs": [
    {
     "data": {
      "text/plain": [
       "<HDF5 dataset \"train_img\": shape (16099, 224, 224, 3), type \"|i1\">"
      ]
     },
     "execution_count": 11,
     "metadata": {},
     "output_type": "execute_result"
    }
   ],
   "source": [
    "hdf5_file.create_dataset('train_img',train_shape,np.int8)# for the train set"
   ]
  },
  {
   "cell_type": "code",
   "execution_count": 12,
   "metadata": {},
   "outputs": [
    {
     "data": {
      "text/plain": [
       "<HDF5 dataset \"test_img\": shape (6901, 224, 224, 3), type \"|i1\">"
      ]
     },
     "execution_count": 12,
     "metadata": {},
     "output_type": "execute_result"
    }
   ],
   "source": [
    "hdf5_file.create_dataset('test_img',test_shape,np.int8)#for the test set"
   ]
  },
  {
   "cell_type": "code",
   "execution_count": 13,
   "metadata": {},
   "outputs": [
    {
     "data": {
      "text/plain": [
       "<HDF5 dataset \"train_mean\": shape (224, 224, 3), type \"<f4\">"
      ]
     },
     "execution_count": 13,
     "metadata": {},
     "output_type": "execute_result"
    }
   ],
   "source": [
    "hdf5_file.create_dataset('train_mean',train_shape[1:],np.float32)"
   ]
  },
  {
   "cell_type": "code",
   "execution_count": 14,
   "metadata": {},
   "outputs": [
    {
     "data": {
      "text/plain": [
       "<HDF5 dataset \"test_labels\": shape (6901,), type \"|i1\">"
      ]
     },
     "execution_count": 14,
     "metadata": {},
     "output_type": "execute_result"
    }
   ],
   "source": [
    "hdf5_file.create_dataset('test_labels',(len(test_addrs),),np.int8)"
   ]
  },
  {
   "cell_type": "code",
   "execution_count": 15,
   "metadata": {
    "collapsed": true
   },
   "outputs": [],
   "source": [
    "hdf5_file[\"test_labels\"][...] = test_labels"
   ]
  },
  {
   "cell_type": "code",
   "execution_count": 16,
   "metadata": {},
   "outputs": [
    {
     "data": {
      "text/plain": [
       "<HDF5 dataset \"train_labels\": shape (16099,), type \"|i1\">"
      ]
     },
     "execution_count": 16,
     "metadata": {},
     "output_type": "execute_result"
    }
   ],
   "source": [
    "hdf5_file.create_dataset('train_labels',(len(train_addrs),),np.int8)"
   ]
  },
  {
   "cell_type": "code",
   "execution_count": 17,
   "metadata": {
    "collapsed": true
   },
   "outputs": [],
   "source": [
    "hdf5_file[\"train_labels\"][...] = train_labels"
   ]
  },
  {
   "cell_type": "code",
   "execution_count": 18,
   "metadata": {
    "collapsed": true
   },
   "outputs": [],
   "source": [
    "#the dataset is ready now its time to read images one by one and store it to the dataset"
   ]
  },
  {
   "cell_type": "code",
   "execution_count": 19,
   "metadata": {
    "collapsed": true
   },
   "outputs": [],
   "source": [
    "#for the mean\n",
    "mean = np.zeros(train_shape[1:],np.float32)"
   ]
  },
  {
   "cell_type": "code",
   "execution_count": null,
   "metadata": {
    "collapsed": true
   },
   "outputs": [],
   "source": [
    "#for the train addresses\n",
    "import cv2 as cv\n",
    "for i in range(len(train_addrs)):\n",
    "    #get the images\n",
    "    t_addrs = train_addrs[i]\n",
    "    #read the image\n",
    "    img = cv.imread(t_addrs)\n",
    "    #resize the image\n",
    "    img = cv.resize(img,(224,224),interpolation = cv.INTER_CUBIC)\n",
    "    #convert bgr to rgb\n",
    "    img = cv.cvtColor(img,cv.COLOR_BGR2RGB)\n",
    "    # save the image and calculate the mean so far\n",
    "    hdf5_file[\"train_img\"][i, ...] = img[None]\n",
    "    mean += img / float(len(train_labels))\n",
    "    \n",
    "    "
   ]
  },
  {
   "cell_type": "code",
   "execution_count": null,
   "metadata": {
    "collapsed": true
   },
   "outputs": [],
   "source": [
    "import cv2 as cv\n",
    "#for the test addresses\n",
    "for i in range (len(test_addrs)):\n",
    "    #get the images\n",
    "    test_ad = test_addrs[i]\n",
    "    #read the images\n",
    "    img = cv.imread(test_ad)\n",
    "    #resize\n",
    "    img = cv.resize(img,(224,224),interpolation = cv.INTER_CUBIC)\n",
    "    #BGR2RGB\n",
    "    img = cv.cvtColor(img,cv.COLOR_BGR2RGB)\n",
    "    #save the img\n",
    "    hdf5_file[\"test_img\"][...] = img[None]\n",
    "    "
   ]
  },
  {
   "cell_type": "code",
   "execution_count": null,
   "metadata": {
    "collapsed": true
   },
   "outputs": [],
   "source": [
    "#save mean and close the hdf5 file\n",
    "hdf5_file[\"train_mean\"][i, ...] = mean\n",
    "hdf5_file.close()"
   ]
  },
  {
   "cell_type": "code",
   "execution_count": null,
   "metadata": {
    "collapsed": true
   },
   "outputs": [],
   "source": []
  }
 ],
 "metadata": {
  "kernelspec": {
   "display_name": "Python 3",
   "language": "python",
   "name": "python3"
  },
  "language_info": {
   "codemirror_mode": {
    "name": "ipython",
    "version": 3
   },
   "file_extension": ".py",
   "mimetype": "text/x-python",
   "name": "python",
   "nbconvert_exporter": "python",
   "pygments_lexer": "ipython3",
   "version": "3.6.3"
  }
 },
 "nbformat": 4,
 "nbformat_minor": 2
}
