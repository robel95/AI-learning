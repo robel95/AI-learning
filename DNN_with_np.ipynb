{
 "cells": [
  {
   "cell_type": "markdown",
   "metadata": {},
   "source": [
    "# DNN model"
   ]
  },
  {
   "cell_type": "code",
   "execution_count": 2,
   "metadata": {
    "collapsed": true
   },
   "outputs": [],
   "source": [
    "#import necessary libraries\n",
    "import numpy as np\n",
    "import glob\n",
    "import cv2 as cv\n",
    "import matplotlib.pyplot as plt\n",
    "from random import shuffle\n",
    "from testCases_v2 import *\n",
    "from dnn_app_utils_v2 import *"
   ]
  },
  {
   "cell_type": "code",
   "execution_count": 3,
   "metadata": {
    "collapsed": true
   },
   "outputs": [],
   "source": [
    "# load the dataset and the labels\n",
    "x_train = np.load('x_train.npy')\n",
    "y_train = np.load('y_train.npy')\n",
    "x_test =  np.load('x_test.npy')\n",
    "y_test = np.load('y_test.npy')"
   ]
  },
  {
   "cell_type": "code",
   "execution_count": 13,
   "metadata": {},
   "outputs": [
    {
     "name": "stdout",
     "output_type": "stream",
     "text": [
      "(576, 4022)\n",
      "(1, 4022)\n",
      "============\n",
      "(576, 824)\n",
      "(1, 824)\n"
     ]
    }
   ],
   "source": [
    "print(x_train.shape)\n",
    "print(y_train.shape)\n",
    "print('============')\n",
    "print(x_test.shape)\n",
    "print(y_test.shape)"
   ]
  },
  {
   "cell_type": "code",
   "execution_count": 4,
   "metadata": {
    "collapsed": true
   },
   "outputs": [],
   "source": [
    "# normalize the inputs\n",
    "\n",
    "x_train = x_train / 255\n",
    "x_test = x_test / 255\n",
    "\n"
   ]
  },
  {
   "cell_type": "code",
   "execution_count": 5,
   "metadata": {
    "collapsed": true
   },
   "outputs": [],
   "source": [
    "# create a three different layers\n",
    "layers_dims1 = [x_train.shape[0], 20, 7, 5, 1] #3 hidden layers\n",
    "layers_dims2 = [576,4,1]#single hidden layer\n",
    "layers_dims3 = [576,45,20,7,6,4,1]#5 hidden layers"
   ]
  },
  {
   "cell_type": "code",
   "execution_count": 6,
   "metadata": {
    "collapsed": true
   },
   "outputs": [],
   "source": [
    "# create the model for the dnn model\n",
    "def L_layer_model(X, Y, layers_dims, learning_rate = 0.1, num_iterations = 3000, print_cost=False):#lr was 0.009\n",
    "    \n",
    "\n",
    "    #fix the random initialization\n",
    "    np.random.seed(1)\n",
    "    # keep track of cost\n",
    "    costs = []                         \n",
    "    \n",
    "    # Parameters initialization.\n",
    "   \n",
    "    parameters = initialize_parameters_deep(layers_dims)\n",
    "    \n",
    "    \n",
    "    # Loop (gradient descent)\n",
    "    for i in range(0, num_iterations):\n",
    "\n",
    "        # Forward propagation: [LINEAR -> RELU]*(L-1) -> LINEAR -> SIGMOID.\n",
    "         \n",
    "        AL, caches = L_model_forward(X, parameters)\n",
    "        \n",
    "        \n",
    "        # Compute cost.\n",
    "        \n",
    "        cost = compute_cost(AL, Y)\n",
    "        \n",
    "    \n",
    "        # Backward propagation.\n",
    "        \n",
    "        grads = L_model_backward(AL, Y, caches)\n",
    "        \n",
    " \n",
    "        # Update parameters.\n",
    "        \n",
    "        parameters = update_parameters(parameters, grads, learning_rate=learning_rate)\n",
    "        \n",
    "                \n",
    "        # Print the cost every 100 training example\n",
    "        if print_cost and i % 100 == 0:\n",
    "            print (\"Cost after iteration %i: %f\" %(i, cost))\n",
    "        #if print_cost and i % 100 == 0:\n",
    "        costs.append(cost)\n",
    "            \n",
    "    # plot the cost\n",
    "    plt.plot(np.squeeze(costs))\n",
    "    plt.ylabel('cost')\n",
    "    plt.xlabel('iterations (per tens)')\n",
    "    plt.title(\"Learning rate =\" + str(learning_rate))\n",
    "    plt.show()\n",
    "    \n",
    "    return parameters"
   ]
  },
  {
   "cell_type": "code",
   "execution_count": 14,
   "metadata": {},
   "outputs": [
    {
     "name": "stdout",
     "output_type": "stream",
     "text": [
      "Cost after iteration 0: 0.692814\n",
      "Cost after iteration 100: 0.673184\n",
      "Cost after iteration 200: 0.580521\n",
      "Cost after iteration 300: 0.546227\n",
      "Cost after iteration 400: 0.518883\n",
      "Cost after iteration 500: 0.498712\n",
      "Cost after iteration 600: 0.481532\n",
      "Cost after iteration 700: 0.464604\n",
      "Cost after iteration 800: 0.449190\n",
      "Cost after iteration 900: 0.435241\n",
      "Cost after iteration 1000: 0.420324\n",
      "Cost after iteration 1100: 0.407590\n",
      "Cost after iteration 1200: 0.396150\n",
      "Cost after iteration 1300: 0.385649\n",
      "Cost after iteration 1400: 0.373430\n",
      "Cost after iteration 1500: 0.363234\n",
      "Cost after iteration 1600: 0.353028\n",
      "Cost after iteration 1700: 0.335597\n",
      "Cost after iteration 1800: 0.325689\n",
      "Cost after iteration 1900: 0.315463\n",
      "Cost after iteration 2000: 0.307668\n",
      "Cost after iteration 2100: 0.295677\n",
      "Cost after iteration 2200: 0.290859\n",
      "Cost after iteration 2300: 0.285554\n",
      "Cost after iteration 2400: 0.263967\n",
      "Cost after iteration 2500: 0.255053\n",
      "Cost after iteration 2600: 0.254726\n",
      "Cost after iteration 2700: 0.243701\n",
      "Cost after iteration 2800: 0.246097\n",
      "Cost after iteration 2900: 0.228773\n",
      "Cost after iteration 3000: 0.225174\n",
      "Cost after iteration 3100: 0.220233\n",
      "Cost after iteration 3200: 0.212741\n",
      "Cost after iteration 3300: 0.209676\n",
      "Cost after iteration 3400: 0.200853\n",
      "Cost after iteration 3500: 0.189464\n",
      "Cost after iteration 3600: 0.199282\n",
      "Cost after iteration 3700: 0.197527\n",
      "Cost after iteration 3800: 0.181853\n",
      "Cost after iteration 3900: 0.177370\n",
      "Cost after iteration 4000: 0.203379\n",
      "Cost after iteration 4100: 0.171498\n",
      "Cost after iteration 4200: 0.158009\n",
      "Cost after iteration 4300: 0.174324\n",
      "Cost after iteration 4400: 0.146808\n",
      "Cost after iteration 4500: 0.201311\n",
      "Cost after iteration 4600: 0.137029\n",
      "Cost after iteration 4700: 0.136478\n",
      "Cost after iteration 4800: 0.147593\n",
      "Cost after iteration 4900: 0.162270\n",
      "Cost after iteration 5000: 0.150979\n",
      "Cost after iteration 5100: 0.161441\n",
      "Cost after iteration 5200: 0.153942\n",
      "Cost after iteration 5300: 0.137743\n",
      "Cost after iteration 5400: 0.136129\n",
      "Cost after iteration 5500: 0.149056\n",
      "Cost after iteration 5600: 0.179438\n",
      "Cost after iteration 5700: 0.124301\n",
      "Cost after iteration 5800: 0.230181\n",
      "Cost after iteration 5900: 0.114420\n",
      "Cost after iteration 6000: 0.170082\n",
      "Cost after iteration 6100: 0.129515\n",
      "Cost after iteration 6200: 0.106911\n",
      "Cost after iteration 6300: 0.120627\n",
      "Cost after iteration 6400: 0.104071\n",
      "Cost after iteration 6500: 0.163414\n",
      "Cost after iteration 6600: 0.103137\n",
      "Cost after iteration 6700: 0.201779\n",
      "Cost after iteration 6800: 0.132993\n",
      "Cost after iteration 6900: 0.093225\n",
      "Cost after iteration 7000: 0.120966\n",
      "Cost after iteration 7100: 0.193122\n",
      "Cost after iteration 7200: 0.187494\n",
      "Cost after iteration 7300: 0.106108\n",
      "Cost after iteration 7400: 0.086975\n",
      "Cost after iteration 7500: 0.092080\n",
      "Cost after iteration 7600: 0.106564\n",
      "Cost after iteration 7700: 0.093160\n",
      "Cost after iteration 7800: 0.219298\n",
      "Cost after iteration 7900: 0.246690\n",
      "Cost after iteration 8000: 0.112737\n",
      "Cost after iteration 8100: 0.124278\n",
      "Cost after iteration 8200: 0.083809\n",
      "Cost after iteration 8300: 0.088219\n",
      "Cost after iteration 8400: 0.190309\n",
      "Cost after iteration 8500: 0.088442\n",
      "Cost after iteration 8600: 0.074061\n",
      "Cost after iteration 8700: 0.071878\n",
      "Cost after iteration 8800: 0.100504\n",
      "Cost after iteration 8900: 0.071866\n",
      "Cost after iteration 9000: 0.073160\n",
      "Cost after iteration 9100: 0.176414\n",
      "Cost after iteration 9200: 0.085142\n",
      "Cost after iteration 9300: 0.146593\n",
      "Cost after iteration 9400: 0.109986\n",
      "Cost after iteration 9500: 0.089046\n",
      "Cost after iteration 9600: 0.073073\n",
      "Cost after iteration 9700: 0.065789\n",
      "Cost after iteration 9800: 0.066667\n"
     ]
    },
    {
     "data": {
      "image/png": "[encoded data removed]",
      "text/plain": [
       "<matplotlib.figure.Figure at 0x7f1f2e1e8fd0>"
      ]
     },
     "metadata": {},
     "output_type": "display_data"
    }
   ],
   "source": [
    "#3 hidden layers\n",
    "parameters = L_layer_model(x_train, y_train, layers_dims1, num_iterations = 9877, print_cost = True)\n",
    "\n"
   ]
  },
  {
   "cell_type": "markdown",
   "metadata": {},
   "source": [
    "### train accuracy"
   ]
  },
  {
   "cell_type": "code",
   "execution_count": 16,
   "metadata": {},
   "outputs": [
    {
     "data": {
      "text/plain": [
       "97.886623570363"
      ]
     },
     "execution_count": 16,
     "metadata": {},
     "output_type": "execute_result"
    }
   ],
   "source": [
    "# comparing the predicted value and the true vale\n",
    "def prediction(x,parameters):\n",
    "    \n",
    "    AL, caches = L_model_forward(x, parameters)\n",
    "    y1 = ( AL > 0.5 )\n",
    "    return y1\n",
    "# create a function to calculate the accuracy\n",
    "def accuracy(y1,y):\n",
    "    return 100 - (np.mean(np.abs(np.subtract(y,y1),y)) * 100)\n",
    "prediction(x_train,parameters)\n",
    "accuracy(prediction(x_train,parameters),y_train)\n"
   ]
  },
  {
   "cell_type": "markdown",
   "metadata": {},
   "source": [
    "### test accuracy"
   ]
  },
  {
   "cell_type": "code",
   "execution_count": 9,
   "metadata": {},
   "outputs": [
    {
     "data": {
      "text/plain": [
       "92.71844660194175"
      ]
     },
     "execution_count": 9,
     "metadata": {},
     "output_type": "execute_result"
    }
   ],
   "source": [
    "prediction(x_test,y_test,parameters)"
   ]
  },
  {
   "cell_type": "code",
   "execution_count": 17,
   "metadata": {
    "collapsed": true
   },
   "outputs": [],
   "source": [
    "w1 = parameters['W1']\n",
    "w2 = parameters['W2']\n",
    "w3 = parameters['W3']\n",
    "w4 = parameters['W4']\n",
    "b1 = parameters['b1']\n",
    "b2 = parameters['b2']\n",
    "b3 = parameters['b3']\n",
    "b4 = parameters['b4']"
   ]
  },
  {
   "cell_type": "code",
   "execution_count": 20,
   "metadata": {
    "collapsed": true
   },
   "outputs": [],
   "source": [
    "weights = {'w1':w1, 'w2':w2, 'w3':w3, 'w4':w4}\n",
    "\n",
    "biases = {'b1':b1, 'b2':b2, 'b3':b3, 'b4':b4}\n"
   ]
  },
  {
   "cell_type": "code",
   "execution_count": 21,
   "metadata": {
    "collapsed": true
   },
   "outputs": [],
   "source": [
    "#save the weights and the biases\n",
    "np.save('weights.npy',weights)\n",
    "np.save('biases.npy',biases)"
   ]
  },
  {
   "cell_type": "code",
   "execution_count": 9,
   "metadata": {},
   "outputs": [
    {
     "name": "stdout",
     "output_type": "stream",
     "text": [
      "Cost after iteration 0: 0.693337\n",
      "Cost after iteration 100: 0.655466\n",
      "Cost after iteration 200: 0.634467\n",
      "Cost after iteration 300: 0.590531\n",
      "Cost after iteration 400: 0.511950\n",
      "Cost after iteration 500: 0.475477\n",
      "Cost after iteration 600: 0.435930\n",
      "Cost after iteration 700: 0.463264\n",
      "Cost after iteration 800: 0.364041\n",
      "Cost after iteration 900: 0.364191\n",
      "Cost after iteration 1000: 0.436389\n",
      "Cost after iteration 1100: 0.319811\n",
      "Cost after iteration 1200: 0.361179\n",
      "Cost after iteration 1300: 0.327945\n",
      "Cost after iteration 1400: 0.308970\n",
      "Cost after iteration 1500: 0.309790\n",
      "Cost after iteration 1600: 0.285678\n",
      "Cost after iteration 1700: 0.286986\n",
      "Cost after iteration 1800: 0.274609\n",
      "Cost after iteration 1900: 0.261911\n",
      "Cost after iteration 2000: 0.256249\n",
      "Cost after iteration 2100: 0.242201\n",
      "Cost after iteration 2200: 0.251398\n",
      "Cost after iteration 2300: 0.236268\n",
      "Cost after iteration 2400: 0.243863\n",
      "Cost after iteration 2500: 0.193222\n",
      "Cost after iteration 2600: 0.203655\n",
      "Cost after iteration 2700: 0.210245\n",
      "Cost after iteration 2800: 0.169624\n",
      "Cost after iteration 2900: 0.175272\n",
      "Cost after iteration 3000: 0.210736\n",
      "Cost after iteration 3100: 0.210450\n",
      "Cost after iteration 3200: 0.174757\n",
      "Cost after iteration 3300: 0.172990\n",
      "Cost after iteration 3400: 0.151709\n",
      "Cost after iteration 3500: 0.141239\n",
      "Cost after iteration 3600: 0.156738\n",
      "Cost after iteration 3700: 0.136274\n",
      "Cost after iteration 3800: 0.142761\n",
      "Cost after iteration 3900: 0.191986\n",
      "Cost after iteration 4000: 0.150892\n",
      "Cost after iteration 4100: 0.141577\n",
      "Cost after iteration 4200: 0.153573\n",
      "Cost after iteration 4300: 0.186995\n",
      "Cost after iteration 4400: 0.159311\n",
      "Cost after iteration 4500: 0.285551\n",
      "Cost after iteration 4600: 0.345635\n",
      "Cost after iteration 4700: 0.176472\n",
      "Cost after iteration 4800: 0.275589\n",
      "Cost after iteration 4900: 0.189046\n",
      "Cost after iteration 5000: 0.149596\n",
      "Cost after iteration 5100: 0.156571\n",
      "Cost after iteration 5200: 0.147182\n",
      "Cost after iteration 5300: 0.147018\n",
      "Cost after iteration 5400: 0.147531\n",
      "Cost after iteration 5500: 0.144667\n",
      "Cost after iteration 5600: 0.158763\n",
      "Cost after iteration 5700: 0.116425\n",
      "Cost after iteration 5800: 0.115534\n",
      "Cost after iteration 5900: 0.119468\n",
      "Cost after iteration 6000: 0.124028\n",
      "Cost after iteration 6100: 0.116545\n",
      "Cost after iteration 6200: 0.110995\n",
      "Cost after iteration 6300: 0.113724\n",
      "Cost after iteration 6400: 0.104855\n",
      "Cost after iteration 6500: 0.121969\n",
      "Cost after iteration 6600: 0.089067\n",
      "Cost after iteration 6700: 0.106044\n",
      "Cost after iteration 6800: 0.181293\n",
      "Cost after iteration 6900: 0.106995\n",
      "Cost after iteration 7000: 0.115154\n",
      "Cost after iteration 7100: 0.099972\n",
      "Cost after iteration 7200: 0.270808\n",
      "Cost after iteration 7300: 0.133043\n",
      "Cost after iteration 7400: 0.094753\n",
      "Cost after iteration 7500: 0.177017\n",
      "Cost after iteration 7600: 0.088151\n",
      "Cost after iteration 7700: 0.085359\n",
      "Cost after iteration 7800: 0.105992\n",
      "Cost after iteration 7900: 0.123842\n",
      "Cost after iteration 8000: 0.131391\n",
      "Cost after iteration 8100: 0.108376\n",
      "Cost after iteration 8200: 0.152491\n",
      "Cost after iteration 8300: 0.098610\n",
      "Cost after iteration 8400: 0.177321\n",
      "Cost after iteration 8500: 0.154439\n",
      "Cost after iteration 8600: 0.113848\n",
      "Cost after iteration 8700: 0.142034\n",
      "Cost after iteration 8800: 0.076751\n",
      "Cost after iteration 8900: 0.062675\n",
      "Cost after iteration 9000: 0.063454\n",
      "Cost after iteration 9100: 0.101302\n",
      "Cost after iteration 9200: 0.217746\n",
      "Cost after iteration 9300: 0.100192\n",
      "Cost after iteration 9400: 0.125349\n",
      "Cost after iteration 9500: 0.081973\n",
      "Cost after iteration 9600: 0.195796\n",
      "Cost after iteration 9700: 0.048900\n",
      "Cost after iteration 9800: 0.407974\n"
     ]
    },
    {
     "data": {
      "image/png": "[encoded data removed]",
      "text/plain": [
       "<matplotlib.figure.Figure at 0x7f0f0e377160>"
      ]
     },
     "metadata": {},
     "output_type": "display_data"
    }
   ],
   "source": [
    "parameters = L_layer_model(x_train, y_train, layers_dims3, num_iterations = 9877, print_cost = True,learning_rate=0.075)"
   ]
  },
  {
   "cell_type": "code",
   "execution_count": null,
   "metadata": {
    "collapsed": true
   },
   "outputs": [],
   "source": []
  }
 ],
 "metadata": {
  "kernelspec": {
   "display_name": "Python 3",
   "language": "python",
   "name": "python3"
  },
  "language_info": {
   "codemirror_mode": {
    "name": "ipython",
    "version": 3
   },
   "file_extension": ".py",
   "mimetype": "text/x-python",
   "name": "python",
   "nbconvert_exporter": "python",
   "pygments_lexer": "ipython3",
   "version": "3.6.3"
  }
 },
 "nbformat": 4,
 "nbformat_minor": 2
}
