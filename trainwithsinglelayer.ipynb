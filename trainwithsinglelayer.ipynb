{
 "cells": [
  {
   "cell_type": "markdown",
   "metadata": {},
   "source": [
    "### eye state model with single layer"
   ]
  },
  {
   "cell_type": "code",
   "execution_count": 316,
   "metadata": {
    "collapsed": true
   },
   "outputs": [],
   "source": [
    "import numpy as np \n",
    "import glob\n",
    "import cv2 as cv\n"
   ]
  },
  {
   "cell_type": "code",
   "execution_count": 317,
   "metadata": {
    "collapsed": true
   },
   "outputs": [],
   "source": [
    "#import images"
   ]
  },
  {
   "cell_type": "code",
   "execution_count": 318,
   "metadata": {
    "collapsed": true
   },
   "outputs": [],
   "source": [
    "train_path = 'eye/train/'\n",
    "test_path = 'eye/test'"
   ]
  },
  {
   "cell_type": "code",
   "execution_count": 319,
   "metadata": {},
   "outputs": [
    {
     "data": {
      "text/plain": [
       "'eye/train/openLeftEyes/Bob_Melvin_0001_L.jpg'"
      ]
     },
     "execution_count": 319,
     "metadata": {},
     "output_type": "execute_result"
    }
   ],
   "source": [
    "train_files = glob.glob(train_path + '/*/*.jpg')\n",
    "test_files = glob.glob(test_path + '/*/*.jpg')\n",
    "train_files[2]\n"
   ]
  },
  {
   "cell_type": "code",
   "execution_count": 320,
   "metadata": {
    "collapsed": true
   },
   "outputs": [],
   "source": [
    "#prepare labels for the images"
   ]
  },
  {
   "cell_type": "code",
   "execution_count": 321,
   "metadata": {},
   "outputs": [
    {
     "data": {
      "text/plain": [
       "1"
      ]
     },
     "execution_count": 321,
     "metadata": {},
     "output_type": "execute_result"
    }
   ],
   "source": [
    "#for training\n",
    "train_y = [0 if 'cat' in files else 1 for files in train_files]\n",
    "test_y = [0 if 'cat' in files else 1 for files in test_files]\n",
    "train_y[2]\n"
   ]
  },
  {
   "cell_type": "code",
   "execution_count": 322,
   "metadata": {},
   "outputs": [
    {
     "name": "stdout",
     "output_type": "stream",
     "text": [
      "(1818, 24, 24)\n"
     ]
    }
   ],
   "source": [
    "#convert the images to np arrays\n",
    "x_train = []\n",
    "for i in train_files:\n",
    "    img = cv.imread(i)\n",
    "    img = cv.cvtColor(img,cv.COLOR_BGR2GRAY)\n",
    "    x_train.append(img)\n",
    "x_test = []\n",
    "for i in test_files:\n",
    "    img = cv.imread(i)\n",
    "    img = cv.cvtColor(img,cv.COLOR_BGR2GRAY)\n",
    "    x_test.append(img)\n",
    "    \n",
    "x_train = np.array(x_train)\n",
    "x_test = np.array(x_test)\n",
    "#convert the labels to np arrays\n",
    "train_y = np.array(train_y)\n",
    "test_y = np.array(test_y)\n",
    "print(x_train.shape)"
   ]
  },
  {
   "cell_type": "code",
   "execution_count": 323,
   "metadata": {
    "collapsed": true
   },
   "outputs": [],
   "source": [
    "#preprocess the data"
   ]
  },
  {
   "cell_type": "code",
   "execution_count": 324,
   "metadata": {},
   "outputs": [
    {
     "name": "stdout",
     "output_type": "stream",
     "text": [
      "(576, 1818)\n",
      "[[ 0.74117647  0.81568627  0.59607843 ...,  0.52156863  0.61960784\n",
      "   0.36862745]\n",
      " [ 0.74509804  0.82745098  0.56078431 ...,  0.51372549  0.59215686\n",
      "   0.35686275]\n",
      " [ 0.74901961  0.82352941  0.54901961 ...,  0.51764706  0.58431373\n",
      "   0.3372549 ]\n",
      " ..., \n",
      " [ 0.68235294  0.76470588  0.6745098  ...,  0.56078431  0.70196078\n",
      "   0.59607843]\n",
      " [ 0.67843137  0.72941176  0.66666667 ...,  0.57254902  0.69411765\n",
      "   0.58823529]\n",
      " [ 0.67843137  0.69019608  0.6627451  ...,  0.58431373  0.67843137\n",
      "   0.58039216]]\n",
      "(1, 1818)\n"
     ]
    }
   ],
   "source": [
    "#flatten and reshape\n",
    "x_train = x_train.reshape(x_train.shape[0],-1).T\n",
    "x_test = x_test.reshape(x_test.shape[0],-1).T\n",
    "\n",
    "train_y = train_y.reshape(-1,1).T\n",
    "test_y = test_y.reshape(-1,1).T\n",
    "\n",
    "#preprocess\n",
    "x_train = x_train/255\n",
    "x_test = x_test /255\n",
    "print(x_train.shape)\n",
    "print(x_train)\n",
    "print(train_y.shape)"
   ]
  },
  {
   "cell_type": "code",
   "execution_count": 325,
   "metadata": {
    "collapsed": true
   },
   "outputs": [],
   "source": [
    "#single_layer_network\n"
   ]
  },
  {
   "cell_type": "code",
   "execution_count": 326,
   "metadata": {},
   "outputs": [
    {
     "data": {
      "text/plain": [
       "(576, 576, 1)"
      ]
     },
     "execution_count": 326,
     "metadata": {},
     "output_type": "execute_result"
    }
   ],
   "source": [
    "# layer size\n",
    "def layer_size(x,y):\n",
    "    n_x = x.shape[0]\n",
    "    n_h = 576\n",
    "    n_y = y.shape[0]\n",
    "    return n_x,n_h,n_y\n",
    "layer_size(x_train,train_y)\n",
    "    "
   ]
  },
  {
   "cell_type": "code",
   "execution_count": 327,
   "metadata": {
    "collapsed": true
   },
   "outputs": [],
   "source": [
    "#ini_parameters\n",
    "\n",
    "def ini_parameters(n_x,n_h,n_y):\n",
    "    np.random.seed(3)\n",
    "    w1 = np.random.randn(n_h,n_x) * 0.01\n",
    "    b1 = np.zeros(shape = (n_h,1))\n",
    "    w2 = np.random.randn(n_y,n_h) * 0.01\n",
    "    b2 = np.zeros(shape = (n_y,1))\n",
    "    \n",
    "    assert(w1.shape == (n_h,n_x))\n",
    "    assert(w2.shape == (n_y,n_h))\n",
    "    assert(b1.shape == (n_h,1))\n",
    "    assert(b2.shape ==(n_y,1))\n",
    "    params = {'w1':w1,'b1':b1,'w2':w2,'b2':b2}\n",
    "    return params\n"
   ]
  },
  {
   "cell_type": "code",
   "execution_count": 328,
   "metadata": {
    "collapsed": true
   },
   "outputs": [],
   "source": [
    "#relu\n",
    "def relu(z):\n",
    "    return z * (z>0)\n",
    "#propagate\n",
    "def propagate(x,params):\n",
    "    \n",
    "    w1 = params['w1']\n",
    "    w2 = params['w2']\n",
    "    b1 = params['b1']\n",
    "    b2 = params['b2']\n",
    "    \n",
    "    z1 = np.dot(w1,x) + b1 \n",
    "    a1 = np.tanh(z1)\n",
    "    '''\n",
    "    print(w1.shape,x.shape,b1.shape,z1.shape,a1.shape)\n",
    "    print('====')\n",
    "    print(w2.shape,a1.shape,b2.shape)\n",
    "    '''  \n",
    "    z2 = np.dot(w2,a1) + b2\n",
    "    a2 = (1/1+np.exp(-z2))\n",
    "    \n",
    "    cache = { 'z1':z1,'z2':z2,'a1':a1,'a2':a2}\n",
    "    return a2,cache\n",
    "#propagate(x_train,1728,4,1)"
   ]
  },
  {
   "cell_type": "code",
   "execution_count": 329,
   "metadata": {
    "collapsed": true
   },
   "outputs": [],
   "source": [
    "#define the cost\n",
    "def cost(y,cache):\n",
    "    a2 = cache['a2']\n",
    "    log = np.add(np.multiply(np.log(a2),y) , np.multiply((1-a2),(1-y)))\n",
    "    cost = -(np.sum(log)) / y.shape[1]\n",
    "    return cost\n",
    "\n",
    "#cost(train_y,x_train,1728,4,1)"
   ]
  },
  {
   "cell_type": "code",
   "execution_count": 330,
   "metadata": {
    "collapsed": true
   },
   "outputs": [],
   "source": [
    "#backward propagation\n",
    "def back_prop(params,cache,x,y):\n",
    "    w1 = params['w1']\n",
    "    w2 = params['w2']\n",
    "    b1 = params['b1']\n",
    "    b2 = params['b2']\n",
    "    m = y.shape[1]\n",
    "    a1 = cache['a1']\n",
    "    a2 = cache['a2']\n",
    "    z1 = cache['z1']\n",
    "    z2 = cache['z2']\n",
    "    \n",
    "    gz1 = (1-np.power(a1,2)) \n",
    "    \n",
    "    dz2 = np.subtract(a2,y)\n",
    "    dw2 = np.dot(dz2,a1.T)/m\n",
    "    db2 = np.sum(dz2,axis = 1, keepdims = True) / m\n",
    "    dz1 = np.multiply((np.dot(w2.T,dz2)),gz1)\n",
    "    dw1 = np.dot(dz1,x.T)/m\n",
    "    db1 = np.sum(dz1,axis = 1, keepdims = True) / m\n",
    "    \n",
    "    grads = {'dw1':dw1, 'db1':db1, 'dw2':dw2, 'db2':db2}\n",
    "    \n",
    "    return grads"
   ]
  },
  {
   "cell_type": "code",
   "execution_count": 331,
   "metadata": {
    "collapsed": true
   },
   "outputs": [],
   "source": [
    "#update the parameters w and b\n",
    "def update_parameters(grads,params,alpha):\n",
    "    \n",
    "    dw1 = grads['dw1']\n",
    "    dw2 = grads['dw2']\n",
    "    db1 = grads['db1']\n",
    "    db2 = grads['db2']\n",
    "    \n",
    "    w1 = params['w1']\n",
    "    w2 = params['w2']\n",
    "    b1 = params['b1']\n",
    "    b2 = params['b2']\n",
    "    \n",
    "    \n",
    "    \n",
    "        \n",
    "    w1 = w1 - (alpha * dw1 )\n",
    "    w2 = w2 - (alpha * dw2 )\n",
    "    b1 = b1 - (alpha * db1 )\n",
    "    b2 = b2 - (alpha * db2 )\n",
    "        \n",
    "    params = {'w1':w1, 'w2':w2, 'b1':b1, 'b2':b2}\n",
    "    \n",
    "    return params\n",
    "    \n",
    "    "
   ]
  },
  {
   "cell_type": "code",
   "execution_count": 332,
   "metadata": {
    "collapsed": true
   },
   "outputs": [],
   "source": [
    "#the model\n",
    "def train(x,y,alpha,n_iter):\n",
    "    #get the layer size\n",
    "    n_x = layer_size(x,y)[0]\n",
    "    n_y = layer_size(x,y)[2]\n",
    "    n_h = 576\n",
    "    #initialize parameters while propagating\n",
    "    params = ini_parameters(n_x,n_h,n_y)\n",
    "    costs = []\n",
    "    for i in range (0,n_iter):\n",
    "        \n",
    "        a2,cache = propagate(x,params)\n",
    "        \n",
    "        coste = cost(y,cache)\n",
    "       \n",
    "        grads = back_prop(params,cache,x,y)\n",
    "        \n",
    "        params = update_parameters(grads,params,alpha)\n",
    "        \n",
    "        if i % 100 == 0:\n",
    "            print(\"cost after\" ,i, \"iteration = \" ,coste)\n",
    "    \n",
    "        costs.append(coste)  \n",
    "    return params,costs\n",
    "            "
   ]
  },
  {
   "cell_type": "code",
   "execution_count": 333,
   "metadata": {
    "collapsed": true
   },
   "outputs": [],
   "source": [
    "def predict(x,params):\n",
    "        a2 = propagate(x,params)[0]\n",
    "        \n",
    "        predict = np.round(a2)\n",
    "        print(type(a2))\n",
    "        return predict, a2"
   ]
  },
  {
   "cell_type": "code",
   "execution_count": null,
   "metadata": {
    "collapsed": true
   },
   "outputs": [],
   "source": [
    "\n"
   ]
  }
 ],
 "metadata": {
  "kernelspec": {
   "display_name": "Python 3",
   "language": "python",
   "name": "python3"
  },
  "language_info": {
   "codemirror_mode": {
    "name": "ipython",
    "version": 3
   },
   "file_extension": ".py",
   "mimetype": "text/x-python",
   "name": "python",
   "nbconvert_exporter": "python",
   "pygments_lexer": "ipython3",
   "version": "3.6.3"
  }
 },
 "nbformat": 4,
 "nbformat_minor": 2
}
