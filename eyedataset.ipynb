{
 "cells": [
  {
   "cell_type": "markdown",
   "metadata": {},
   "source": [
    "# preparing and saving the eye state dataset to a npy file format"
   ]
  },
  {
   "cell_type": "code",
   "execution_count": 1,
   "metadata": {
    "collapsed": true
   },
   "outputs": [],
   "source": [
    "#import necessary libraries\n",
    "import numpy as np\n",
    "import cv2 as cv\n",
    "from random import shuffle\n",
    "import glob"
   ]
  },
  {
   "cell_type": "code",
   "execution_count": 2,
   "metadata": {
    "collapsed": true
   },
   "outputs": [],
   "source": [
    "#get the dataset from a directory and create a list of labels i.e. 0 and 1 then shuffle them \n",
    "file_path = 'eyedataset/'\n",
    "files = glob.glob( file_path + '/*.jpg')\n",
    "labels = [0 if 'closed' in file else 1 for file in files]\n",
    "shuffle_ = False #must be True\n",
    "if shuffle_:\n",
    "    zipd = list(zip(files,labels))#zip\n",
    "    shuffle(zipd)#shuffle\n",
    "    files,labels = zip(*zipd)#unzip\n"
   ]
  },
  {
   "cell_type": "code",
   "execution_count": 62,
   "metadata": {
    "collapsed": true
   },
   "outputs": [],
   "source": [
    "'''\n",
    "#fortraining_sets\n",
    "train_files = files[0:int(0.83*len(files))]\n",
    "train_labels = labels[0:int(0.83*len(labels))]\n",
    "#for test\n",
    "test_files = files[int(0.83*len(files)):]\n",
    "test_labels = labels[int(0.83*len(labels)):]"
   ]
  },
  {
   "cell_type": "code",
   "execution_count": 6,
   "metadata": {},
   "outputs": [
    {
     "data": {
      "text/plain": [
       "'\\nx_test = []\\nfor i in test_files:\\n    img = cv.imread(i)\\n    img = cv.cvtColor(img,cv.COLOR_BGR2GRAY)\\n    x_test.append(img)\\nx_test = np.array(x_test)\\nx_train[1].shape\\n'"
      ]
     },
     "execution_count": 6,
     "metadata": {},
     "output_type": "execute_result"
    }
   ],
   "source": [
    "#read the images and save them to a list\n",
    "X = [] #x_train = []\n",
    "for i in files:\n",
    "    img = cv.imread(i)\n",
    "    img = cv.cvtColor(img,cv.COLOR_BGR2GRAY)\n",
    "    X.append(img)\n",
    "X = np.array(X)\n",
    "\"\"\"\n",
    "x_test = []\n",
    "for i in test_files:\n",
    "    img = cv.imread(i)\n",
    "    img = cv.cvtColor(img,cv.COLOR_BGR2GRAY)\n",
    "    x_test.append(img)\n",
    "x_test = np.array(x_test)\n",
    "x_train[1].shape\n",
    "\"\"\""
   ]
  },
  {
   "cell_type": "code",
   "execution_count": 12,
   "metadata": {
    "collapsed": true
   },
   "outputs": [],
   "source": [
    "Y = np.array(labels)\n",
    "#test_labels = np.array(test_labels)\n",
    "\n",
    "#Y = Y.reshape(-1,1)\n",
    "#test_labels = test_labels.reshape(-1,1)"
   ]
  },
  {
   "cell_type": "code",
   "execution_count": 16,
   "metadata": {
    "collapsed": true
   },
   "outputs": [],
   "source": [
    "X = X.reshape(X.shape[0],-1).T\n",
    "#x_test = x_test.reshape(x_test.shape[0],-1).T\n",
    "#Y = Y.T\n",
    "#y_test = test_labels.T"
   ]
  },
  {
   "cell_type": "code",
   "execution_count": 17,
   "metadata": {},
   "outputs": [
    {
     "name": "stdout",
     "output_type": "stream",
     "text": [
      "(576, 4846)\n",
      "(4846,)\n",
      "============\n"
     ]
    }
   ],
   "source": [
    "print(X.shape)\n",
    "print(Y.shape)\n",
    "print('============')\n",
    "#print(x_test.shape)\n",
    "#print(y_test.shape)"
   ]
  },
  {
   "cell_type": "code",
   "execution_count": 18,
   "metadata": {
    "collapsed": true
   },
   "outputs": [],
   "source": [
    "np.save('labels.npy',Y)\n",
    "np.save('dataset.npy',X)"
   ]
  },
  {
   "cell_type": "code",
   "execution_count": 67,
   "metadata": {
    "collapsed": true
   },
   "outputs": [],
   "source": [
    "\"\"\"\n",
    "np.save('x_train.npy',x_train)\n",
    "np.save('x_test.npy',x_test)\n",
    "np.save('y_train.npy',y_train)\n",
    "np.save('y_test.npy',y_test)\n"
   ]
  },
  {
   "cell_type": "code",
   "execution_count": 59,
   "metadata": {},
   "outputs": [
    {
     "data": {
      "text/plain": [
       "(576, 4022)"
      ]
     },
     "execution_count": 59,
     "metadata": {},
     "output_type": "execute_result"
    }
   ],
   "source": [
    "\n",
    "x = np.load('x_train.npy')\n",
    "x.shape"
   ]
  },
  {
   "cell_type": "code",
   "execution_count": 70,
   "metadata": {},
   "outputs": [
    {
     "data": {
      "text/plain": [
       "'/home/robel'"
      ]
     },
     "execution_count": 70,
     "metadata": {},
     "output_type": "execute_result"
    }
   ],
   "source": [
    "pwd"
   ]
  },
  {
   "cell_type": "code",
   "execution_count": null,
   "metadata": {
    "collapsed": true
   },
   "outputs": [],
   "source": []
  }
 ],
 "metadata": {
  "kernelspec": {
   "display_name": "Python 3",
   "language": "python",
   "name": "python3"
  },
  "language_info": {
   "codemirror_mode": {
    "name": "ipython",
    "version": 3
   },
   "file_extension": ".py",
   "mimetype": "text/x-python",
   "name": "python",
   "nbconvert_exporter": "python",
   "pygments_lexer": "ipython3",
   "version": "3.6.3"
  }
 },
 "nbformat": 4,
 "nbformat_minor": 2
}
